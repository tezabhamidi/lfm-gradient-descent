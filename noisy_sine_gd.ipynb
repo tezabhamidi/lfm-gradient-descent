{
 "cells": [
  {
   "cell_type": "code",
   "execution_count": 1,
   "metadata": {},
   "outputs": [],
   "source": [
    "import torch\n",
    "import math\n",
    "import matplotlib.pyplot as plt"
   ]
  },
  {
   "cell_type": "code",
   "execution_count": 2,
   "metadata": {},
   "outputs": [
    {
     "name": "stdout",
     "output_type": "stream",
     "text": [
      "Starting frequency: 1.002\n",
      "--- Step: 1000 ---\n",
      "Predicted frequency: 0.970\n",
      "Target frequency: 0.100\n",
      "--- Step: 2000 ---\n",
      "Predicted frequency: 0.594\n",
      "Target frequency: 0.100\n",
      "--- Step: 3000 ---\n",
      "Predicted frequency: 0.131\n",
      "Target frequency: 0.100\n",
      "--- Step: 4000 ---\n",
      "Predicted frequency: 0.091\n",
      "Target frequency: 0.100\n",
      "--- Step: 5000 ---\n",
      "Predicted frequency: 0.100\n",
      "Target frequency: 0.100\n"
     ]
    }
   ],
   "source": [
    "from sinusoidal_gradient_descent.core import complex_oscillator\n",
    "\n",
    "N = 64\n",
    "n = torch.arange(N)\n",
    "\n",
    "torch.random.manual_seed(1000)\n",
    "starting_freq = torch.rand(1) * math.pi\n",
    "predicted_z = torch.exp(1j * starting_freq)\n",
    "predicted_z.detach_().requires_grad_(True)\n",
    "print(f\"Starting frequency: {predicted_z.angle().abs().item():.3f}\")\n",
    "\n",
    "target_freq = torch.tensor(0.1)\n",
    "target_signal = torch.cos(target_freq * n)\n",
    "\n",
    "criterion = torch.nn.MSELoss()\n",
    "optimiser = torch.optim.SGD([predicted_z], lr=3e-4)\n",
    "\n",
    "for step in range(5000):\n",
    "    predicted_signal = complex_oscillator(predicted_z, N=N, reduce=True)\n",
    "    loss = criterion(predicted_signal, target_signal)\n",
    "\n",
    "    optimiser.zero_grad()\n",
    "    loss.backward()\n",
    "    predicted_z.grad = predicted_z.grad / predicted_z.grad.abs()\n",
    "    optimiser.step()\n",
    "\n",
    "    if (step + 1) % 1000 == 0:\n",
    "        print(f\"--- Step: {step + 1} ---\")\n",
    "        print(f\"Predicted frequency: {predicted_z.angle().abs().item():.3f}\")\n",
    "        print(f\"Target frequency: {target_freq.item():.3f}\")\n"
   ]
  }
 ],
 "metadata": {
  "kernelspec": {
   "display_name": "Python",
   "language": "python",
   "name": "python3"
  },
  "language_info": {
   "codemirror_mode": {
    "name": "ipython",
    "version": 3
   },
   "file_extension": ".py",
   "mimetype": "text/x-python",
   "name": "python",
   "nbconvert_exporter": "python",
   "pygments_lexer": "ipython3",
   "version": "3.9.16"
  }
 },
 "nbformat": 4,
 "nbformat_minor": 2
}
